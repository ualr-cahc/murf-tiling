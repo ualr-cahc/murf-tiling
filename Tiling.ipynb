{
 "cells": [
  {
   "attachments": {},
   "cell_type": "markdown",
   "id": "87169d27",
   "metadata": {},
   "source": [
    "Run both of the following cells. \n",
    "\n",
    "Replace the arguments supplied to make_tiles as needed."
   ]
  },
  {
   "cell_type": "code",
   "execution_count": 1,
   "id": "445723f1",
   "metadata": {},
   "outputs": [],
   "source": [
    "from tileTools.makeTiles import make_tiles"
   ]
  },
  {
   "cell_type": "code",
   "execution_count": 2,
   "id": "35bcc84f",
   "metadata": {},
   "outputs": [
    {
     "name": "stdout",
     "output_type": "stream",
     "text": [
      "Tiling: 1934-1938_LITRK-NOLIT_Juvenile_Deliquency\n",
      "Generating Base Tiles:\n",
      "0Generating Overview Tiles:\n",
      "0...10...20...30...40...50...60...70...80...90...100\n",
      "Tiling: 1939_LITRK-NOLIT_Residential_Rentals_01\n",
      "Generating Base Tiles:\n",
      "0Generating Overview Tiles:\n",
      "0...10...20...30...40...50...60...70...80...90...100\n",
      "Tiling: 1939_LITRK-NOLIT_Residential_Rentals_02\n",
      "Generating Base Tiles:\n",
      "0Generating Overview Tiles:\n",
      "0...10...20...30...40...50...60...70...80...90...100\n",
      "Tiling: 1950s_LITRK_Traffic_Zones\n",
      "Generating Base Tiles:\n",
      "0Generating Overview Tiles:\n",
      "0...10...20...30...40...50...60...70...80...90...100\n",
      "Tiling: 1950s_Metro_Area_Overcrowding\n",
      "Generating Base Tiles:\n",
      "0Generating Overview Tiles:\n",
      "0...10...20...30...40...50...60...70...80...90...100\n",
      "Tiling: 1950s_Metro_Area_Racial_Distribution\n",
      "Generating Base Tiles:\n",
      "0Generating Overview Tiles:\n",
      "0...10...20...30...40...50...60...70...80...90...100\n",
      "Tiling: 1951_LITRK_Central_Engineering_Plan01\n",
      "Generating Base Tiles:\n",
      "0Generating Overview Tiles:\n",
      "0...10...20...30...40...50...60...70...80...90...100\n",
      "Tiling: 1951_LITRK_Central_Engineering_Plan02\n",
      "Generating Base Tiles:\n",
      "0Generating Overview Tiles:\n",
      "0...10...20...30...40...50...60...70...80...90...100\n",
      "Tiling: 1951_LITRK_Central_Urban_Renewal\n",
      "Generating Base Tiles:\n",
      "0Generating Overview Tiles:\n",
      "0...10...20...30...40...50...60...70...80...90...100\n",
      "Tiling: 1954-1955_LITRK-NOLIT_Illegitimate_Births_x_Race\n",
      "Generating Base Tiles:\n",
      "0Generating Overview Tiles:\n",
      "0...10...20...30...40...50...60...70...80...90...100\n",
      "Tiling: 1954_Central_Area_Road_Map_Negative\n",
      "Generating Base Tiles:\n",
      "0Generating Overview Tiles:\n",
      "0...10...20...30...40...50...60...70...80...90...100\n",
      "Tiling: 1954_LITRK_Central_Gas_System\n",
      "Generating Base Tiles:\n",
      "0Generating Overview Tiles:\n",
      "0...10...20...30...40...50...60...70...80...90...100\n",
      "Tiling: 1954_LITRK_Central_Sewer_System\n",
      "Generating Base Tiles:\n",
      "0Generating Overview Tiles:\n",
      "0...10...20...30...40...50...60...70...80...90...100\n",
      "Tiling: 1954_LITRK_Central_Telephone_System\n",
      "Generating Base Tiles:\n",
      "0Generating Overview Tiles:\n",
      "0...10...20...30...40...50...60...70...80...90...100\n",
      "Tiling: 1954_LITRK_Central_Water_System\n",
      "Generating Base Tiles:\n",
      "0Generating Overview Tiles:\n",
      "0...10...20...30...40...50...60...70...80...90...100\n",
      "Tiling: 1954_Metro_Area_Road_Map_Negative\n",
      "Generating Base Tiles:\n",
      "0Generating Overview Tiles:\n",
      "0...10...20...30...40...50...60...70...80...90...100\n",
      "Tiling: 1955_LITRK-NOLIT_Aerial\n",
      "Generating Base Tiles:\n",
      "0Generating Overview Tiles:\n",
      "0...10...20...30...40...50...60...70...80...90...100\n",
      "Tiling: 1955_LITRK-NOLIT_Juvenile_Dependence_and_Neglect_x_Race\n",
      "Generating Base Tiles:\n",
      "0Generating Overview Tiles:\n",
      "0...10...20...30...40...50...60...70...80...90...100\n",
      "Tiling: 1955_LITRK-NOLIT_Major_Street_Plan\n",
      "Generating Base Tiles:\n",
      "0Generating Overview Tiles:\n",
      "0...10...20...30...40...50...60...70...80...90...100\n",
      "Tiling: 1955_LITRK-NOLIT_Proposed_Highway_System\n",
      "Generating Base Tiles:\n",
      "0Generating Overview Tiles:\n",
      "0...10...20...30...40...50...60...70...80...90...100\n",
      "Tiling: 1955_LITRK-NOLIT_Reported_Active_Cases_of_TB\n",
      "Generating Base Tiles:\n",
      "0Generating Overview Tiles:\n",
      "0...10...20...30...40...50...60...70...80...90...100\n"
     ]
    }
   ],
   "source": [
    "make_tiles(input_folder=r\"D:\\TIFFs\\Tiffs added 2022-07-06\\Metroplan Files Renamed\",\n",
    "           output_folder=r\"D:\\tiling_output_new_version\",\n",
    "           database_name=r\"D:\\tiling_output_new_version\\test_tiling.db\")"
   ]
  },
  {
   "attachments": {},
   "cell_type": "markdown",
   "id": "618a952d",
   "metadata": {},
   "source": [
    "###### None: Don't move this notebook out of the murf-tiling folder or else the import statement will not work."
   ]
  }
 ],
 "metadata": {
  "kernelspec": {
   "display_name": "env",
   "language": "python",
   "name": "python3"
  },
  "language_info": {
   "codemirror_mode": {
    "name": "ipython",
    "version": 3
   },
   "file_extension": ".py",
   "mimetype": "text/x-python",
   "name": "python",
   "nbconvert_exporter": "python",
   "pygments_lexer": "ipython3",
   "version": "3.11.1"
  },
  "vscode": {
   "interpreter": {
    "hash": "6a53c122cf3e187a1179ea5f71fb24c88f6011a38bd678cf180f13a149d7996f"
   }
  }
 },
 "nbformat": 4,
 "nbformat_minor": 5
}
