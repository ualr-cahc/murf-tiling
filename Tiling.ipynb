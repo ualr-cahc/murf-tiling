{
 "cells": [
  {
   "cell_type": "code",
   "execution_count": null,
   "id": "445723f1",
   "metadata": {},
   "outputs": [],
   "source": [
    "# Run this cell.\n",
    "from tileTools.makeTiles import makeTiles\n",
    "from pathlib import Path"
   ]
  },
  {
   "cell_type": "code",
   "execution_count": null,
   "id": "57add65c",
   "metadata": {},
   "outputs": [],
   "source": [
    "# Add your input and output directories as strings\n",
    "# and run this cell.\n",
    "input_directory = \"example/directory/input\"\n",
    "output_dir = \"example/directory/output\""
   ]
  },
  {
   "cell_type": "code",
   "execution_count": null,
   "id": "35bcc84f",
   "metadata": {},
   "outputs": [],
   "source": [
    "# Run this cell to begin tiling.\n",
    "input_filepaths = input_filepaths = [path.resolve()\n",
    "                                     for path in Path(input_directory).iterdir()\n",
    "                                     if path.suffix == \".tif\"]\n",
    "makeTiles(input_filepaths=input_filepaths,\n",
    "          output_dir=output_dir)"
   ]
  }
 ],
 "metadata": {
  "kernelspec": {
   "display_name": "Python 3.11.0 ('env': venv)",
   "language": "python",
   "name": "python3"
  },
  "language_info": {
   "codemirror_mode": {
    "name": "ipython",
    "version": 3
   },
   "file_extension": ".py",
   "mimetype": "text/x-python",
   "name": "python",
   "nbconvert_exporter": "python",
   "pygments_lexer": "ipython3",
   "version": "3.11.0"
  },
  "vscode": {
   "interpreter": {
    "hash": "767427ea66c874164c590b9f999196d487b488dea0c0701a54f5597d2cddbd37"
   }
  }
 },
 "nbformat": 4,
 "nbformat_minor": 5
}
