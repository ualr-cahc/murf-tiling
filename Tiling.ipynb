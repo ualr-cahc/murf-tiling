{
 "cells": [
  {
   "attachments": {},
   "cell_type": "markdown",
   "id": "87169d27",
   "metadata": {},
   "source": [
    "Run both of the following cells. \n",
    "\n",
    "Replace the arguments supplied to make_tiles as needed."
   ]
  },
  {
   "cell_type": "code",
   "execution_count": 1,
   "id": "445723f1",
   "metadata": {},
   "outputs": [],
   "source": [
    "from tileTools.makeTiles import make_tiles"
   ]
  },
  {
   "cell_type": "code",
   "execution_count": null,
   "id": "35bcc84f",
   "metadata": {},
   "outputs": [],
   "source": [
    "make_tiles(input_folder=\"tests/TIFFs\",\n",
    "           output_folder=\"tests/output\",\n",
    "           database_name=\"test_tiling.db\")"
   ]
  },
  {
   "attachments": {},
   "cell_type": "markdown",
   "id": "618a952d",
   "metadata": {},
   "source": [
    "###### None: Don't move this notebook out of the murf-tiling folder or else the import statement will not work."
   ]
  }
 ],
 "metadata": {
  "kernelspec": {
   "display_name": "env",
   "language": "python",
   "name": "python3"
  },
  "language_info": {
   "codemirror_mode": {
    "name": "ipython",
    "version": 3
   },
   "file_extension": ".py",
   "mimetype": "text/x-python",
   "name": "python",
   "nbconvert_exporter": "python",
   "pygments_lexer": "ipython3",
   "version": "3.10.9"
  },
  "vscode": {
   "interpreter": {
    "hash": "6a53c122cf3e187a1179ea5f71fb24c88f6011a38bd678cf180f13a149d7996f"
   }
  }
 },
 "nbformat": 4,
 "nbformat_minor": 5
}
