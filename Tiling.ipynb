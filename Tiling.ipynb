{
 "cells": [
  {
   "cell_type": "code",
   "execution_count": null,
   "id": "445723f1",
   "metadata": {},
   "outputs": [],
   "source": [
    "# Run this cell.\n",
    "from tileTools.makeTiles import makeTiles\n",
    "from pathlib import Path"
   ]
  },
  {
   "cell_type": "code",
   "execution_count": null,
   "id": "57add65c",
   "metadata": {},
   "outputs": [],
   "source": [
    "# Add your input and output directories as strings\n",
    "# and run this cell.\n",
    "input_directory = \"example/directory/input\"\n",
    "output_dir = \"example/directory/output\""
   ]
  },
  {
   "cell_type": "code",
   "execution_count": null,
   "id": "35bcc84f",
   "metadata": {},
   "outputs": [],
   "source": [
    "# Run this cell to begin tiling.\n",
    "input_filepaths = input_filepaths = [path.resolve()\n",
    "                                     for path in Path(input_directory).iterdir()\n",
    "                                     if path.suffix == \".tif\"]\n",
    "makeTiles(input_filepaths=input_filepaths,\n",
    "          output_dir=output_dir)"
   ]
  }
 ],
 "metadata": {
  "kernelspec": {
   "display_name": "Python 3.10.8 64-bit (microsoft store)",
   "language": "python",
   "name": "python3"
  },
  "language_info": {
   "codemirror_mode": {
    "name": "ipython",
    "version": 3
   },
   "file_extension": ".py",
   "mimetype": "text/x-python",
   "name": "python",
   "nbconvert_exporter": "python",
   "pygments_lexer": "ipython3",
   "version": "3.10.8"
  },
  "vscode": {
   "interpreter": {
    "hash": "4f25bc75ed68546de2059c1472282b72606aa5da89902d8c30412e443f9073e3"
   }
  }
 },
 "nbformat": 4,
 "nbformat_minor": 5
}
