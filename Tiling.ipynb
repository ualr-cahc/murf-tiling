{
 "cells": [
  {
   "cell_type": "code",
   "execution_count": null,
   "id": "445723f1",
   "metadata": {},
   "outputs": [],
   "source": [
    "# Run this cell.\n",
    "from tileTools.makeTiles import makeTiles\n",
    "from pathlib import Path"
   ]
  },
  {
   "cell_type": "code",
   "execution_count": null,
   "id": "57add65c",
   "metadata": {},
   "outputs": [],
   "source": [
    "# Add your input and output directories as strings\n",
    "# and run this cell.\n",
    "input_directory = \"example/directory/input\"\n",
    "output_dir = \"example/directory/output\""
   ]
  },
  {
   "cell_type": "code",
   "execution_count": null,
   "id": "35bcc84f",
   "metadata": {},
   "outputs": [],
   "source": [
    "# Run this cell to begin tiling.\n",
    "input_filepaths = input_filepaths = [path.resolve()\n",
    "                                     for path in Path(input_directory).iterdir()\n",
    "                                     if path.suffix == \".tif\"]\n",
    "makeTiles(input_filepaths=input_filepaths,\n",
    "          output_dir=output_dir)"
   ]
  },
  {
   "cell_type": "code",
   "execution_count": 1,
   "id": "b72e2586",
   "metadata": {},
   "outputs": [],
   "source": [
    "from tileTools.database import Database\n",
    "db = Database(\"tiling.db\")\n"
   ]
  },
  {
   "cell_type": "code",
   "execution_count": 2,
   "id": "d5cc2a57",
   "metadata": {},
   "outputs": [
    {
     "name": "stdout",
     "output_type": "stream",
     "text": [
      "('test', 8, 16, 30265956500, 4, 1)\n",
      "('test', 8, 16, 29629366600, 4, 1)\n"
     ]
    }
   ],
   "source": [
    "with db.connection as connection:\n",
    "    for table in connection.execute(\"select * from make_tile_layer;\"):\n",
    "        print(table)\n",
    "db.connection.close()"
   ]
  },
  {
   "cell_type": "code",
   "execution_count": 8,
   "id": "e860f9b4",
   "metadata": {},
   "outputs": [],
   "source": [
    "cursor = db.connection.cursor()\n",
    "data = cursor.execute(\"SELECT * FROM make_tile_layer;\")"
   ]
  },
  {
   "cell_type": "code",
   "execution_count": 10,
   "id": "fddb1da9",
   "metadata": {},
   "outputs": [],
   "source": [
    "desc = cursor.description"
   ]
  },
  {
   "cell_type": "code",
   "execution_count": 12,
   "id": "0afe1658",
   "metadata": {},
   "outputs": [
    {
     "data": {
      "text/plain": [
       "['layer_name',\n",
       " 'min_zoom',\n",
       " 'max_zoom',\n",
       " 'tile_time_ns',\n",
       " 'processes',\n",
       " 'xyz_tiles']"
      ]
     },
     "execution_count": 12,
     "metadata": {},
     "output_type": "execute_result"
    },
    {
     "ename": "",
     "evalue": "",
     "output_type": "error",
     "traceback": [
      "\u001b[1;31mThe Kernel crashed while executing code in the the current cell or a previous cell. Please review the code in the cell(s) to identify a possible cause of the failure. Click <a href='https://aka.ms/vscodeJupyterKernelCrash'>here</a> for more info. View Jupyter <a href='command:jupyter.viewOutput'>log</a> for further details."
     ]
    }
   ],
   "source": [
    "[t[0] for t in desc]"
   ]
  },
  {
   "cell_type": "code",
   "execution_count": 1,
   "id": "ae9a674e",
   "metadata": {},
   "outputs": [],
   "source": [
    "import rasterio\n",
    "from tileTools.makeTiles import _is_color_mapped"
   ]
  },
  {
   "cell_type": "code",
   "execution_count": 2,
   "id": "138d72e5",
   "metadata": {},
   "outputs": [],
   "source": [
    "raster = rasterio.open(r\"C:\\Users\\tyler\\dev\\murf-tiling\\tests\\TIFFs\\test.tif\")"
   ]
  },
  {
   "cell_type": "code",
   "execution_count": 5,
   "id": "5638cce6",
   "metadata": {},
   "outputs": [
    {
     "data": {
      "text/plain": [
       "False"
      ]
     },
     "execution_count": 5,
     "metadata": {},
     "output_type": "execute_result"
    }
   ],
   "source": [
    "_is_color_mapped(r\"C:\\Users\\tyler\\dev\\murf-tiling\\tests\\TIFFs\\1970_LITRK-NOLIT_Skeletal.tif\")"
   ]
  },
  {
   "cell_type": "code",
   "execution_count": null,
   "id": "78e330a7",
   "metadata": {},
   "outputs": [],
   "source": []
  }
 ],
 "metadata": {
  "kernelspec": {
   "display_name": "Python 3",
   "language": "python",
   "name": "python3"
  },
  "language_info": {
   "codemirror_mode": {
    "name": "ipython",
    "version": 3
   },
   "file_extension": ".py",
   "mimetype": "text/x-python",
   "name": "python",
   "nbconvert_exporter": "python",
   "pygments_lexer": "ipython3",
   "version": "3.10.9 (tags/v3.10.9:1dd9be6, Dec  6 2022, 20:01:21) [MSC v.1934 64 bit (AMD64)]"
  },
  "vscode": {
   "interpreter": {
    "hash": "4f25bc75ed68546de2059c1472282b72606aa5da89902d8c30412e443f9073e3"
   }
  }
 },
 "nbformat": 4,
 "nbformat_minor": 5
}
