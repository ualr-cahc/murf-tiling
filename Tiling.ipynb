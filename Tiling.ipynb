{
 "cells": [
  {
   "attachments": {},
   "cell_type": "markdown",
   "id": "87169d27",
   "metadata": {},
   "source": [
    "Run both of the following cells. \n",
    "\n",
    "Replace the arguments supplied to make_tiles as needed."
   ]
  },
  {
   "cell_type": "code",
   "execution_count": null,
   "id": "445723f1",
   "metadata": {},
   "outputs": [],
   "source": [
    "from tileTools.makeTiles import make_tiles"
   ]
  },
  {
   "cell_type": "code",
   "execution_count": null,
   "id": "35bcc84f",
   "metadata": {},
   "outputs": [],
   "source": [
    "make_tiles(input_folder=\"tests/TIFFs\",\n",
    "           output_folder=\"tests/output\",\n",
    "           database_name=\"test_tiling.db\")"
   ]
  },
  {
   "attachments": {},
   "cell_type": "markdown",
   "id": "618a952d",
   "metadata": {},
   "source": [
    "###### None: Don't move this notebook out of the murf-tiling folder or else the import statement will not work."
   ]
  }
 ],
 "metadata": {
  "kernelspec": {
   "display_name": "env",
   "language": "python",
   "name": "python3"
  },
  "language_info": {
   "codemirror_mode": {
    "name": "ipython",
    "version": 3
   },
   "file_extension": ".py",
   "mimetype": "text/x-python",
   "name": "python",
   "nbconvert_exporter": "python",
   "pygments_lexer": "ipython3",
   "version": "3.11.0 (main, Oct 24 2022, 18:26:48) [MSC v.1933 64 bit (AMD64)]"
  },
  "vscode": {
   "interpreter": {
    "hash": "767427ea66c874164c590b9f999196d487b488dea0c0701a54f5597d2cddbd37"
   }
  }
 },
 "nbformat": 4,
 "nbformat_minor": 5
}
