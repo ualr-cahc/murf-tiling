{
 "cells": [
  {
   "cell_type": "code",
   "execution_count": 27,
   "metadata": {},
   "outputs": [],
   "source": [
    "from tileTools.getFileInfo import make_infoPaths, make_infoLists\n",
    "import os"
   ]
  },
  {
   "cell_type": "code",
   "execution_count": 2,
   "metadata": {},
   "outputs": [],
   "source": [
    "parent = \"d:\\\\translated\""
   ]
  },
  {
   "cell_type": "code",
   "execution_count": 23,
   "metadata": {},
   "outputs": [],
   "source": [
    "infoPaths = make_infoPaths(parent)"
   ]
  },
  {
   "cell_type": "code",
   "execution_count": 4,
   "metadata": {},
   "outputs": [
    {
     "name": "stdout",
     "output_type": "stream",
     "text": [
      "'<' not supported between instances of 'CPLE_NotSupportedError' and 'tuple'\n"
     ]
    }
   ],
   "source": [
    "infoLists = make_infoLists(parent)"
   ]
  },
  {
   "cell_type": "code",
   "execution_count": 28,
   "metadata": {},
   "outputs": [],
   "source": [
    "for path in infoPaths:\n",
    "    if 0 in infoPaths[path]['bounds']:\n",
    "        with open('non_georeferenced.txt', \"a\") as output:\n",
    "            output.write(f\"{os.path.split(path)[1]}\\n\")\n",
    "    else:\n",
    "        with open('georeferenced.txt', \"a\") as output:\n",
    "            output.write(f\"{os.path.split(path)[1]}\\n\")"
   ]
  },
  {
   "cell_type": "code",
   "execution_count": 26,
   "metadata": {},
   "outputs": [
    {
     "name": "stdout",
     "output_type": "stream",
     "text": [
      "116\n"
     ]
    }
   ],
   "source": [
    "count = 0\n",
    "for path in infoPaths:\n",
    "    if 0 in infoPaths[path][\"bounds\"]:\n",
    "        count += 1\n",
    "print(count)"
   ]
  },
  {
   "cell_type": "code",
   "execution_count": 32,
   "metadata": {},
   "outputs": [
    {
     "data": {
      "text/plain": [
       "dict_keys(['filesize', 'height', 'width', 'bounds', 'pxsize', 'coordsize', 'resolution'])"
      ]
     },
     "execution_count": 32,
     "metadata": {},
     "output_type": "execute_result"
    }
   ],
   "source": [
    "infoLists.keys()"
   ]
  },
  {
   "cell_type": "code",
   "execution_count": 22,
   "metadata": {},
   "outputs": [
    {
     "name": "stdout",
     "output_type": "stream",
     "text": [
      "116\n"
     ]
    }
   ],
   "source": [
    "matches = []\n",
    "for i in infoLists[\"lnglat\"]:\n",
    "    if not isinstance(i[1], tuple):\n",
    "        matches.append(i)\n",
    "print(len(matches))"
   ]
  },
  {
   "cell_type": "code",
   "execution_count": 25,
   "metadata": {},
   "outputs": [],
   "source": [
    "with open(\"c:\\\\users\\\\triley\\\\desktop\\\\geotiff\\\\non_georeferenced.txt\", 'r') as file:\n",
    "    with open(\"c:\\\\users\\\\triley\\\\desktop\\\\geotiff\\\\move_non_georeferenced.bat\", 'w') as batch:\n",
    "        for line in file.readlines():\n",
    "            filepath = f\"d:\\\\Metroplan Files Renamed\\\\{line.strip()}\"\n",
    "            batch.write(f'copy \"{filepath}\" \"d:\\\\Not Georeferenced\"\\n')\n"
   ]
  },
  {
   "cell_type": "code",
   "execution_count": 28,
   "metadata": {},
   "outputs": [],
   "source": [
    "with open(\"c:\\\\users\\\\triley\\\\desktop\\\\geotiff\\\\non_georeferenced.txt\", 'r') as file:\n",
    "    with open(\"c:\\\\users\\\\triley\\\\desktop\\\\geotiff\\\\delete_non_georeferenced.bat\", 'w') as batch:\n",
    "        for line in file.readlines():\n",
    "            filepath = f\"d:\\\\Metroplan Files Renamed\\\\{line.strip()}\"\n",
    "            batch.write(f'del \"{filepath}\"\\n')"
   ]
  },
  {
   "cell_type": "code",
   "execution_count": null,
   "metadata": {},
   "outputs": [],
   "source": []
  }
 ],
 "metadata": {
  "interpreter": {
   "hash": "4f25bc75ed68546de2059c1472282b72606aa5da89902d8c30412e443f9073e3"
  },
  "kernelspec": {
   "display_name": "Python 3.10.4 64-bit (windows store)",
   "language": "python",
   "name": "python3"
  },
  "language_info": {
   "codemirror_mode": {
    "name": "ipython",
    "version": 3
   },
   "file_extension": ".py",
   "mimetype": "text/x-python",
   "name": "python",
   "nbconvert_exporter": "python",
   "pygments_lexer": "ipython3",
   "version": "3.10.5"
  },
  "orig_nbformat": 4
 },
 "nbformat": 4,
 "nbformat_minor": 2
}
