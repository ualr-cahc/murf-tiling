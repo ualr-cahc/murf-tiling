{
 "cells": [
  {
   "cell_type": "code",
   "execution_count": 1,
   "id": "ec0f127b",
   "metadata": {},
   "outputs": [],
   "source": [
    "import os\n",
    "import gdal2tiles\n",
    "import rasterio\n",
    "from tileTools.translate2bytes import translate2bytes"
   ]
  },
  {
   "cell_type": "code",
   "execution_count": 2,
   "id": "97555bca",
   "metadata": {},
   "outputs": [
    {
     "name": "stdout",
     "output_type": "stream",
     "text": [
      "Number of tiffs: 2 \n",
      "\n"
     ]
    }
   ],
   "source": [
    "\n",
    "raw_inputs = r\"C:\\Users\\triley\\Desktop\\GeoTIFF\\tests\\\\raw_inputs\"\n",
    "tiffs = [os.path.join(raw_inputs, file) for file in os.listdir(raw_inputs) if os.path.splitext(file)[-1] == '.tif']\n",
    "print(\"Number of tiffs:\", len(tiffs), \"\\n\")"
   ]
  },
  {
   "cell_type": "code",
   "execution_count": 3,
   "id": "7c26560e",
   "metadata": {},
   "outputs": [],
   "source": [
    "\n",
    "translate_output_folder = r\"C:\\Users\\triley\\Desktop\\GeoTIFF\\test\\translate_outputs\"\n",
    "translate2bytes(tiffs, translate_output_folder)\n",
    "translated_filepaths = [os.path.join(translate_output_folder, file) for file in os.listdir(translate_output_folder)]"
   ]
  },
  {
   "cell_type": "code",
   "execution_count": 8,
   "id": "51cb0e50",
   "metadata": {},
   "outputs": [
    {
     "name": "stdout",
     "output_type": "stream",
     "text": [
      "Generating Overview Tiles:\n",
      "0...10...20...30...40...50...60...70...80...90...100\n",
      "Generating Overview Tiles:\n",
      "0...10...20...30...40...50...60...70...80...90...100\n"
     ]
    }
   ],
   "source": [
    "tile_options = {\n",
    "    \"nb_processes\": 8,\n",
    "    \"zoom\": [8, 9]\n",
    "}\n",
    "tile_output_folder = \"c:\\\\users\\\\triley\\\\desktop\\\\geotiff\\\\test\\\\tile_outputs\"\n",
    "for filepath in translated_filepaths:\n",
    "    foldername = os.path.splitext(os.path.split(filepath)[-1])[0]\n",
    "    folderpath = os.path.join(tile_output_folder, foldername)\n",
    "    os.mkdir(folderpath)\n",
    "    gdal2tiles.generate_tiles(filepath, folderpath, **tile_options)"
   ]
  },
  {
   "cell_type": "code",
   "execution_count": null,
   "id": "821c05e4",
   "metadata": {},
   "outputs": [],
   "source": []
  }
 ],
 "metadata": {
  "interpreter": {
   "hash": "4f25bc75ed68546de2059c1472282b72606aa5da89902d8c30412e443f9073e3"
  },
  "kernelspec": {
   "display_name": "Python 3.10.4 64-bit (windows store)",
   "language": "python",
   "name": "python3"
  },
  "language_info": {
   "codemirror_mode": {
    "name": "ipython",
    "version": 3
   },
   "file_extension": ".py",
   "mimetype": "text/x-python",
   "name": "python",
   "nbconvert_exporter": "python",
   "pygments_lexer": "ipython3",
   "version": "3.10.4"
  }
 },
 "nbformat": 4,
 "nbformat_minor": 5
}
