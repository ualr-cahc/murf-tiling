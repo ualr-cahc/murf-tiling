{
 "cells": [
  {
   "cell_type": "code",
   "execution_count": 1,
   "id": "ec0f127b",
   "metadata": {},
   "outputs": [],
   "source": [
    "import os\n",
    "import gdal2tiles\n",
    "import rasterio\n",
    "from tileTools.translate2bytes import translate2bytes"
   ]
  },
  {
   "cell_type": "code",
   "execution_count": 13,
   "id": "fc366ca2",
   "metadata": {},
   "outputs": [],
   "source": [
    "raw_inputs = \"d:\\\\murf-tiling\\\\tests\\\\raw_inputs\"\n",
    "output_dir = \"d:\\\\murf-tiling\\\\tests\\\\test1\\\\\"\n",
    "tile_options = {\n",
    "    \"nb_processes\": 8,\n",
    "    \"zoom\": [14, 14]\n",
    "}"
   ]
  },
  {
   "cell_type": "code",
   "execution_count": 14,
   "id": "97555bca",
   "metadata": {},
   "outputs": [
    {
     "name": "stdout",
     "output_type": "stream",
     "text": [
      "Number of tiffs: 4 \n",
      "\n"
     ]
    }
   ],
   "source": [
    "\n",
    "if not os.path.isdir(output_dir):\n",
    "    os.mkdir(output_dir)\n",
    "\n",
    "# Extract only files with .tif extension\n",
    "tiffs = [os.path.join(raw_inputs, file) for file in os.listdir(raw_inputs) if os.path.splitext(file)[-1] == '.tif']\n",
    "print(\"Number of tiffs:\", len(tiffs), \"\\n\")\n",
    "\n",
    "# Translate \n",
    "translate_output_folder = os.path.join(output_dir, \"translate_outputs\")\n",
    "translate2bytes(tiffs, translate_output_folder)\n",
    "translated_filepaths = [os.path.join(translate_output_folder, file) for file in os.listdir(translate_output_folder)]\n",
    "\n",
    "tile_output_folder = os.path.join(output_dir, \"tile_outputs\")\n",
    "if not os.path.isdir(tile_output_folder):\n",
    "    os.mkdir(tile_output_folder)\n",
    "for filepath in translated_filepaths:\n",
    "    foldername = os.path.splitext(os.path.split(filepath)[-1])[0]\n",
    "    folderpath = os.path.join(tile_output_folder, foldername)\n",
    "    os.mkdir(folderpath)\n",
    "    gdal2tiles.generate_tiles(filepath, folderpath, **tile_options)"
   ]
  },
  {
   "cell_type": "code",
   "execution_count": null,
   "id": "2f1f9e85",
   "metadata": {},
   "outputs": [],
   "source": []
  }
 ],
 "metadata": {
  "interpreter": {
   "hash": "4f25bc75ed68546de2059c1472282b72606aa5da89902d8c30412e443f9073e3"
  },
  "kernelspec": {
   "display_name": "Python 3.10.4 64-bit (windows store)",
   "language": "python",
   "name": "python3"
  },
  "language_info": {
   "codemirror_mode": {
    "name": "ipython",
    "version": 3
   },
   "file_extension": ".py",
   "mimetype": "text/x-python",
   "name": "python",
   "nbconvert_exporter": "python",
   "pygments_lexer": "ipython3",
   "version": "3.10.5"
  }
 },
 "nbformat": 4,
 "nbformat_minor": 5
}
