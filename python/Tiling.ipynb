{
 "cells": [
  {
   "cell_type": "code",
   "execution_count": 1,
   "id": "ec0f127b",
   "metadata": {},
   "outputs": [
    {
     "name": "stdout",
     "output_type": "stream",
     "text": [
      "INSERT INTO batch (output_dir) VALUES (%s);\n",
      "INSERT INTO translation (batch_id, layer_name) VALUES (%s, %s);\n",
      "UPDATE translation SET already_exists=%s WHERE batch_id=%s AND layer_name=%s;\n",
      "Skipped: 1960_Metro_Area_Office_and_Commercial_Uses.tif\n",
      "INSERT INTO translation (batch_id, layer_name) VALUES (%s, %s);\n",
      "UPDATE translation SET already_exists=%s WHERE batch_id=%s AND layer_name=%s;\n",
      "INSERT INTO tile_layers (batch_id, layer_name) VALUES (%s, %s);\n",
      "INSERT INTO tile_sets (batch_id, layer_name, zoom) VALUES (%s, %s, %s);\n",
      "Generating Base Tiles:\n",
      "0...10...20...30...40...50...60...70...80...90...100\n",
      "tile_set duration 2406528000\n",
      "UPDATE tile_sets SET duration=%s WHERE batch_id=%s AND layer_name=%s AND zoom=%s;\n",
      "INSERT INTO tile_sets (batch_id, layer_name, zoom) VALUES (%s, %s, %s);\n",
      "Generating Base Tiles:\n",
      "0...10...20...30...40...50...60...70...80...90...100\n",
      "tile_set duration 2477578100\n",
      "UPDATE tile_sets SET duration=%s WHERE batch_id=%s AND layer_name=%s AND zoom=%s;\n",
      "INSERT INTO tile_sets (batch_id, layer_name, zoom) VALUES (%s, %s, %s);\n",
      "Generating Base Tiles:\n",
      "0...10...20...30...40...50...60...70...80...90...100\n",
      "tile_set duration 2770786100\n",
      "UPDATE tile_sets SET duration=%s WHERE batch_id=%s AND layer_name=%s AND zoom=%s;\n",
      "INSERT INTO tile_sets (batch_id, layer_name, zoom) VALUES (%s, %s, %s);\n",
      "Generating Base Tiles:\n",
      "0...10...20...30...40...50...60...70...80...90...100\n",
      "tile_set duration 4513310800\n",
      "UPDATE tile_sets SET duration=%s WHERE batch_id=%s AND layer_name=%s AND zoom=%s;\n",
      "INSERT INTO tile_sets (batch_id, layer_name, zoom) VALUES (%s, %s, %s);\n",
      "Generating Base Tiles:\n",
      "0...10...20...30...40...50...60...70...80...90...100\n",
      "tile_set duration 10050691200\n",
      "UPDATE tile_sets SET duration=%s WHERE batch_id=%s AND layer_name=%s AND zoom=%s;\n",
      "INSERT INTO tile_sets (batch_id, layer_name, zoom) VALUES (%s, %s, %s);\n",
      "Generating Base Tiles:\n",
      "0...10...20...30...40...50...60...70...80...90...100\n",
      "tile_set duration 27686378200\n",
      "UPDATE tile_sets SET duration=%s WHERE batch_id=%s AND layer_name=%s AND zoom=%s;\n",
      "INSERT INTO tile_sets (batch_id, layer_name, zoom) VALUES (%s, %s, %s);\n",
      "Generating Base Tiles:\n",
      "0...10...20...30...40...50...60...70...80...90...100\n",
      "tile_set duration 84641495800\n",
      "UPDATE tile_sets SET duration=%s WHERE batch_id=%s AND layer_name=%s AND zoom=%s;\n",
      "UPDATE tile_layers SET duration=%s WHERE batch_id=%s AND layer_name=%s;\n",
      "INSERT INTO translation (batch_id, layer_name) VALUES (%s, %s);\n",
      "UPDATE translation SET duration=%s WHERE batch_id=%s AND layer_name=%s;\n",
      "INSERT INTO tile_layers (batch_id, layer_name) VALUES (%s, %s);\n",
      "INSERT INTO tile_sets (batch_id, layer_name, zoom) VALUES (%s, %s, %s);\n",
      "Generating Base Tiles:\n",
      "0...10...20...30...40...50...60...70...80...90...100\n",
      "tile_set duration 10441676500\n",
      "UPDATE tile_sets SET duration=%s WHERE batch_id=%s AND layer_name=%s AND zoom=%s;\n",
      "INSERT INTO tile_sets (batch_id, layer_name, zoom) VALUES (%s, %s, %s);\n",
      "Generating Base Tiles:\n",
      "0...10...20...30...40...50...60...70...80...90...100\n",
      "tile_set duration 4374709500\n",
      "UPDATE tile_sets SET duration=%s WHERE batch_id=%s AND layer_name=%s AND zoom=%s;\n",
      "INSERT INTO tile_sets (batch_id, layer_name, zoom) VALUES (%s, %s, %s);\n",
      "Generating Base Tiles:\n",
      "0...10...20...30...40...50...60...70...80...90...100\n",
      "tile_set duration 2265716300\n",
      "UPDATE tile_sets SET duration=%s WHERE batch_id=%s AND layer_name=%s AND zoom=%s;\n",
      "INSERT INTO tile_sets (batch_id, layer_name, zoom) VALUES (%s, %s, %s);\n",
      "Generating Base Tiles:\n",
      "0...10...20...30...40...50...60...70...80...90...100\n",
      "tile_set duration 2234786500\n",
      "UPDATE tile_sets SET duration=%s WHERE batch_id=%s AND layer_name=%s AND zoom=%s;\n",
      "INSERT INTO tile_sets (batch_id, layer_name, zoom) VALUES (%s, %s, %s);\n",
      "Generating Base Tiles:\n",
      "0...10...20...30...40...50...60...70...80...90...100\n",
      "tile_set duration 2255803800\n",
      "UPDATE tile_sets SET duration=%s WHERE batch_id=%s AND layer_name=%s AND zoom=%s;\n",
      "INSERT INTO tile_sets (batch_id, layer_name, zoom) VALUES (%s, %s, %s);\n",
      "Generating Base Tiles:\n",
      "0...10...20...30...40...50...60...70...80...90...100\n",
      "tile_set duration 2270479600\n",
      "UPDATE tile_sets SET duration=%s WHERE batch_id=%s AND layer_name=%s AND zoom=%s;\n",
      "INSERT INTO tile_sets (batch_id, layer_name, zoom) VALUES (%s, %s, %s);\n",
      "Generating Base Tiles:\n",
      "0...10...20...30...40...50...60...70...80...90...100\n",
      "tile_set duration 2256546400\n",
      "UPDATE tile_sets SET duration=%s WHERE batch_id=%s AND layer_name=%s AND zoom=%s;\n",
      "INSERT INTO tile_sets (batch_id, layer_name, zoom) VALUES (%s, %s, %s);\n",
      "Generating Base Tiles:\n",
      "0...10...20...30...40...50...60...70...80...90...100\n",
      "tile_set duration 2254332400\n",
      "UPDATE tile_sets SET duration=%s WHERE batch_id=%s AND layer_name=%s AND zoom=%s;\n",
      "INSERT INTO tile_sets (batch_id, layer_name, zoom) VALUES (%s, %s, %s);\n",
      "Generating Base Tiles:\n",
      "0...10...20...30...40...50...60...70...80...90...100\n",
      "tile_set duration 2396541000\n",
      "UPDATE tile_sets SET duration=%s WHERE batch_id=%s AND layer_name=%s AND zoom=%s;\n",
      "INSERT INTO tile_sets (batch_id, layer_name, zoom) VALUES (%s, %s, %s);\n",
      "Generating Base Tiles:\n",
      "0...10...20...30...40...50...60...70...80...90...100\n",
      "tile_set duration 2310477500\n",
      "UPDATE tile_sets SET duration=%s WHERE batch_id=%s AND layer_name=%s AND zoom=%s;\n",
      "INSERT INTO tile_sets (batch_id, layer_name, zoom) VALUES (%s, %s, %s);\n",
      "Generating Base Tiles:\n",
      "0...10...20...30...40...50...60...70...80...90...100\n",
      "tile_set duration 2341885300\n",
      "UPDATE tile_sets SET duration=%s WHERE batch_id=%s AND layer_name=%s AND zoom=%s;\n",
      "INSERT INTO tile_sets (batch_id, layer_name, zoom) VALUES (%s, %s, %s);\n",
      "Generating Base Tiles:\n",
      "0...10...20...30...40...50...60...70...80...90...100\n",
      "tile_set duration 2424379800\n",
      "UPDATE tile_sets SET duration=%s WHERE batch_id=%s AND layer_name=%s AND zoom=%s;\n",
      "INSERT INTO tile_sets (batch_id, layer_name, zoom) VALUES (%s, %s, %s);\n",
      "Generating Base Tiles:\n",
      "0...10...20...30...40...50...60...70...80...90...100\n",
      "tile_set duration 2880720800\n",
      "UPDATE tile_sets SET duration=%s WHERE batch_id=%s AND layer_name=%s AND zoom=%s;\n",
      "INSERT INTO tile_sets (batch_id, layer_name, zoom) VALUES (%s, %s, %s);\n",
      "Generating Base Tiles:\n",
      "0...10...20...30...40...50...60...70...80...90...100\n",
      "tile_set duration 6728287800\n",
      "UPDATE tile_sets SET duration=%s WHERE batch_id=%s AND layer_name=%s AND zoom=%s;\n",
      "INSERT INTO tile_sets (batch_id, layer_name, zoom) VALUES (%s, %s, %s);\n",
      "Generating Base Tiles:\n",
      "0...10...20...30...40...50...60...70...80...90...100\n",
      "tile_set duration 7142217900\n",
      "UPDATE tile_sets SET duration=%s WHERE batch_id=%s AND layer_name=%s AND zoom=%s;\n",
      "INSERT INTO tile_sets (batch_id, layer_name, zoom) VALUES (%s, %s, %s);\n",
      "Generating Base Tiles:\n",
      "0...10...20...30...40...50...60...70...80...90...100\n",
      "tile_set duration 33708349200\n",
      "UPDATE tile_sets SET duration=%s WHERE batch_id=%s AND layer_name=%s AND zoom=%s;\n",
      "INSERT INTO tile_sets (batch_id, layer_name, zoom) VALUES (%s, %s, %s);\n",
      "Generating Base Tiles:\n",
      "0...10...20...30...40...50...60...70...80...90...100\n",
      "tile_set duration 71664786100\n",
      "UPDATE tile_sets SET duration=%s WHERE batch_id=%s AND layer_name=%s AND zoom=%s;\n",
      "UPDATE tile_layers SET duration=%s WHERE batch_id=%s AND layer_name=%s;\n"
     ]
    },
    {
     "data": {
      "text/plain": [
       "342530162300"
      ]
     },
     "execution_count": 1,
     "metadata": {},
     "output_type": "execute_result"
    }
   ],
   "source": [
    "import os\n",
    "from tileTools.makeTiles import makeTiles\n",
    "from shutil import rmtree\n",
    "#raw_inputs = \"D:/ualr-cahc/murf-tiling/TIFFs/GeoTIFFs/Metroplan Files Renamed\"\n",
    "raw_inputs = \"e:/\"\n",
    "#input_filenames = [\"1960_Metro_Area_Office_and_Commercial_Uses.tif\", \"1960_NOLIT_Census_Tract_and_Block.tif\", \"1960_PULCO_Census_ED_Map.tif\", \"1960_PULCO_Census_Tract_Map_A.tif\"]\n",
    "#input_filenames = ['1960_Metro_Area_Office_and_Commercial_Uses.tif']\n",
    "input_filenames = [\"1960_Metro_Area_Office_and_Commercial_Uses.tif\", \"1970s_LITRK-NOLIT_SMSA_Industrial.tif\", \"1998_AHTD_060772_LITRK_Hinson_Rd_Sidewalks_25.tif\"]\n",
    "input_filepaths = [os.path.join(raw_inputs, file) for file in input_filenames]\n",
    "#output_dir = \"d:/ualr-cahc/murf-tiling/tests/osgeo_osm_test2/\"\n",
    "output_dir = \"e:/test\"\n",
    "tile_options = {\n",
    "    \"nb_processes\": 8,\n",
    "    \"zoom\": [8,25]\n",
    "}\n",
    "makeTiles(input_filepaths, output_dir, 8, 25)\n",
    "\n"
   ]
  },
  {
   "cell_type": "code",
   "execution_count": 2,
   "id": "9a90bd9a",
   "metadata": {},
   "outputs": [],
   "source": [
    "from shutil import rmtree\n",
    "rmtree(\"e:/test/tiles\")"
   ]
  },
  {
   "cell_type": "code",
   "execution_count": 2,
   "id": "2e7dcae7",
   "metadata": {},
   "outputs": [],
   "source": [
    "from tileTools.dbConnect import dbConnect"
   ]
  },
  {
   "cell_type": "code",
   "execution_count": 3,
   "id": "cb3dead4",
   "metadata": {},
   "outputs": [],
   "source": [
    "dbKwargs = {\n",
    "    'password': \"***REMOVED***\",\n",
    "    'database': 'murf_tiling'\n",
    "}"
   ]
  },
  {
   "cell_type": "code",
   "execution_count": 4,
   "id": "da2db469",
   "metadata": {},
   "outputs": [],
   "source": [
    "db = dbConnect(**dbKwargs)"
   ]
  },
  {
   "cell_type": "code",
   "execution_count": 6,
   "id": "e8b4ace9",
   "metadata": {},
   "outputs": [],
   "source": [
    "cursor = db.cursor()\n",
    "cursor.execute(\"insert into batch (output_dir) VALUES ('e:\\\\test')\")"
   ]
  },
  {
   "cell_type": "code",
   "execution_count": 5,
   "id": "abf6a29e",
   "metadata": {},
   "outputs": [],
   "source": [
    "import traceback"
   ]
  },
  {
   "cell_type": "code",
   "execution_count": 14,
   "id": "a6766892",
   "metadata": {},
   "outputs": [],
   "source": [
    "try:\n",
    "    raise ValueError\n",
    "except Exception as err:\n",
    "    error = traceback.format_exc(chain=True)"
   ]
  },
  {
   "cell_type": "markdown",
   "id": "37875cbc",
   "metadata": {},
   "source": [
    "Traceback (most recent call last):      \n",
    "]File \"d:\\ualr-cahc\\murf-tiling\\python\\tileTools\\makeTiles.py\", line 100, in makeTileLayer        \n",
    "tile_sets.update({'duration': duration}, tile_set_key)      \n",
    "File \"d:\\ualr-cahc\\murf-tiling\\python\\tileTools\\makeTiles.py\", line 45, in update        \n",
    "self.execute_statement(statement, params)      \n",
    "File \"d:\\ualr-cahc\\murf-tiling\\python\\tileTools\\makeTiles.py\", line 58, in execute_statement        \n",
    "cursor.execute(statement, params)      \n",
    "File \"d:\\ualr-cahc\\murf-tiling\\env\\lib\\site-packages\\mysql\\connector\\cursor_cext.py\", line 257, in execute        \n",
    "prepared = self._cnx.prepare_for_mysql(params)      \n",
    "File \"d:\\ualr-cahc\\murf-tiling\\env\\lib\\site-packages\\mysql\\connector\\connection_cext.py\", line 684, in prepare_for_mysql    \n",
    "    result = self._cmysql.convert_to_mysql(*params)    \n",
    "    _mysql_connector.MySQLInterfaceError: Python type function cannot be converted"
   ]
  },
  {
   "cell_type": "code",
   "execution_count": null,
   "id": "bee23485",
   "metadata": {},
   "outputs": [],
   "source": []
  }
 ],
 "metadata": {
  "kernelspec": {
   "display_name": "Python 3.10.5 ('env': venv)",
   "language": "python",
   "name": "python3"
  },
  "language_info": {
   "codemirror_mode": {
    "name": "ipython",
    "version": 3
   },
   "file_extension": ".py",
   "mimetype": "text/x-python",
   "name": "python",
   "nbconvert_exporter": "python",
   "pygments_lexer": "ipython3",
   "version": "3.10.5"
  },
  "vscode": {
   "interpreter": {
    "hash": "fce37f39587bbc968f203f6a701a608b8bf04997f4f95a30553cd100f256b7d4"
   }
  }
 },
 "nbformat": 4,
 "nbformat_minor": 5
}
