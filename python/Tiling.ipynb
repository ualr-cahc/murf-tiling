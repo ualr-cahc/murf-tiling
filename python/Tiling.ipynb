{
 "cells": [
  {
   "cell_type": "code",
   "execution_count": 2,
   "id": "ec0f127b",
   "metadata": {},
   "outputs": [
    {
     "name": "stdout",
     "output_type": "stream",
     "text": [
      "Skipped: 1960_Metro_Area_Office_and_Commercial_Uses.tif\n",
      "Skipped: 1970s_LITRK-NOLIT_SMSA_Industrial.tif\n",
      "Generating Base Tiles:\n",
      "0...10...20...30...40...50...60...70...80...90...100\n",
      "Generating Base Tiles:\n",
      "0...10...20...30...40...50...60...70...80...90...100\n",
      "Generating Base Tiles:\n",
      "0...10...20...30...40...50...60...70...80...90...100\n",
      "Generating Base Tiles:\n",
      "0...10...20...30...40...50...60...70...80...90...100\n",
      "Generating Base Tiles:\n",
      "0...10...20...30...40...50...60...70...80...90...100\n",
      "Generating Base Tiles:\n",
      "0...10...20...30...40...50...60...70...80...90...100\n",
      "Generating Base Tiles:\n",
      "0...10...20...30...40...50...60...70...80...90...100\n",
      "Generating Base Tiles:\n",
      "0...10...20...30...40...50...60...70...80...90...100\n",
      "Generating Base Tiles:\n",
      "0...10...20...30...40...50...60...70...80...90...100\n",
      "Generating Base Tiles:\n",
      "0...10...20...30...40...50...60...70...80...90...100\n",
      "Generating Base Tiles:\n",
      "0...10...20...30...40...50...60...70...80...90...100\n",
      "Generating Base Tiles:\n",
      "0...10...20...30...40...50...60...70...80...90...100\n",
      "Generating Base Tiles:\n",
      "0...10...20...30...40...50...60...70...80...90...100\n",
      "Generating Base Tiles:\n",
      "0...10...20...30...40...50...60...70...80...90...100\n",
      "Generating Base Tiles:\n",
      "0...10...20...30...40...50...60...70...80...90...100\n",
      "Generating Base Tiles:\n",
      "0...10...20...30...40...50...60...70...80...90...100\n",
      "Generating Base Tiles:\n",
      "0...10...20...30...40...50...60...70...80...90...100\n",
      "Generating Base Tiles:\n",
      "0...10...20...30...40...50...60...70...80...90...100\n"
     ]
    },
    {
     "data": {
      "text/plain": [
       "289613548500"
      ]
     },
     "execution_count": 2,
     "metadata": {},
     "output_type": "execute_result"
    }
   ],
   "source": [
    "import os\n",
    "from tileTools.makeTiles import makeTiles\n",
    "from shutil import rmtree\n",
    "#raw_inputs = \"D:/ualr-cahc/murf-tiling/TIFFs/GeoTIFFs/Metroplan Files Renamed\"\n",
    "raw_inputs = \"e:/\"\n",
    "#input_filenames = [\"1960_Metro_Area_Office_and_Commercial_Uses.tif\", \"1960_NOLIT_Census_Tract_and_Block.tif\", \"1960_PULCO_Census_ED_Map.tif\", \"1960_PULCO_Census_Tract_Map_A.tif\"]\n",
    "#input_filenames = ['1960_Metro_Area_Office_and_Commercial_Uses.tif']\n",
    "input_filenames = [\"1960_Metro_Area_Office_and_Commercial_Uses.tif\", \"1970s_LITRK-NOLIT_SMSA_Industrial.tif\", \"1998_AHTD_060772_LITRK_Hinson_Rd_Sidewalks_25.tif\"]\n",
    "input_filepaths = [os.path.join(raw_inputs, file) for file in input_filenames]\n",
    "#output_dir = \"d:/ualr-cahc/murf-tiling/tests/osgeo_osm_test2/\"\n",
    "output_dir = \"e:/test\"\n",
    "tile_options = {\n",
    "    \"nb_processes\": 8,\n",
    "    \"zoom\": [8,25]\n",
    "}\n",
    "makeTiles(input_filepaths, output_dir, 8, 25)\n",
    "\n"
   ]
  },
  {
   "cell_type": "code",
   "execution_count": 2,
   "id": "9a90bd9a",
   "metadata": {},
   "outputs": [],
   "source": [
    "from shutil import rmtree\n",
    "rmtree(\"e:/test/tiles\")"
   ]
  }
 ],
 "metadata": {
  "kernelspec": {
   "display_name": "Python 3.8.10 64-bit",
   "language": "python",
   "name": "python3"
  },
  "language_info": {
   "codemirror_mode": {
    "name": "ipython",
    "version": 3
   },
   "file_extension": ".py",
   "mimetype": "text/x-python",
   "name": "python",
   "nbconvert_exporter": "python",
   "pygments_lexer": "ipython3",
   "version": "3.8.10"
  },
  "vscode": {
   "interpreter": {
    "hash": "916dbcbb3f70747c44a77c7bcd40155683ae19c65e1c03b4aa3499c5328201f1"
   }
  }
 },
 "nbformat": 4,
 "nbformat_minor": 5
}
