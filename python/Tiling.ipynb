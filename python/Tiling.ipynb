{
 "cells": [
  {
   "cell_type": "code",
   "execution_count": 1,
   "id": "ec0f127b",
   "metadata": {},
   "outputs": [],
   "source": [
    "import os\n",
    "from tileTools.makeTiles import makeTiles"
   ]
  },
  {
   "cell_type": "code",
   "execution_count": 2,
   "id": "fc366ca2",
   "metadata": {},
   "outputs": [],
   "source": [
    "#raw_inputs = \"D:/ualr-cahc/murf-tiling/TIFFs/GeoTIFFs/Metroplan Files Renamed\"\n",
    "raw_inputs = \"e:/\"\n",
    "#input_filenames = [\"1960_Metro_Area_Office_and_Commercial_Uses.tif\", \"1960_NOLIT_Census_Tract_and_Block.tif\", \"1960_PULCO_Census_ED_Map.tif\", \"1960_PULCO_Census_Tract_Map_A.tif\"]\n",
    "#input_filenames = ['1960_Metro_Area_Office_and_Commercial_Uses.tif']\n",
    "input_filenames = [\"1960_Metro_Area_Office_and_Commercial_Uses.tif\", \"1970s_LITRK-NOLIT_SMSA_Industrial.tif\", \"1998_AHTD_060772_LITRK_Hinson_Rd_Sidewalks_25.tif\"]\n",
    "input_filepaths = [os.path.join(raw_inputs, file) for file in input_filenames]\n",
    "#output_dir = \"d:/ualr-cahc/murf-tiling/tests/osgeo_osm_test2/\"\n",
    "output_dir = \"e:/test\"\n",
    "tile_options = {\n",
    "    \"nb_processes\": 8,\n",
    "    \"zoom\": [8,25]\n",
    "}"
   ]
  },
  {
   "cell_type": "code",
   "execution_count": 3,
   "id": "97555bca",
   "metadata": {},
   "outputs": [
    {
     "name": "stdout",
     "output_type": "stream",
     "text": [
      "makeTiles(((['e:/1960_Metro_Area_Office_and_Commercial_Uses.tif', 'e:/1970s_LITRK-NOLIT_SMSA_Industrial.tif', 'e:/1998_AHTD_060772_LITRK_Hinson_Rd_Sidewalks_25.tif'], 'e:/test', 8, 25), {}))\n",
      "INSERT INTO batch (output_dir) VALUES ('e:\\test');\n",
      "Skipped: 1960_Metro_Area_Office_and_Commercial_Uses.tif\n",
      "INSERT INTO tile_layers (batch_id, layer_name) VALUES ('11', '1970s_LITRK-NOLIT_SMSA_Industrial');\n"
     ]
    },
    {
     "ename": "IntegrityError",
     "evalue": "1452 (23000): Cannot add or update a child row: a foreign key constraint fails (`murf_tiling`.`tile_layers`, CONSTRAINT `tile_layers_ibfk_2` FOREIGN KEY (`batch_id`, `layer_name`) REFERENCES `translation` (`batch_id`, `layer_name`))",
     "output_type": "error",
     "traceback": [
      "\u001b[1;31m---------------------------------------------------------------------------\u001b[0m",
      "\u001b[1;31mMySQLInterfaceError\u001b[0m                       Traceback (most recent call last)",
      "File \u001b[1;32md:\\ualr-cahc\\murf-tiling\\env\\lib\\site-packages\\mysql\\connector\\connection_cext.py:535\u001b[0m, in \u001b[0;36mCMySQLConnection.cmd_query\u001b[1;34m(self, query, raw, buffered, raw_as_string)\u001b[0m\n\u001b[0;32m    534\u001b[0m         query \u001b[39m=\u001b[39m query\u001b[39m.\u001b[39mencode(\u001b[39m'\u001b[39m\u001b[39mutf-8\u001b[39m\u001b[39m'\u001b[39m)\n\u001b[1;32m--> 535\u001b[0m     \u001b[39mself\u001b[39;49m\u001b[39m.\u001b[39;49m_cmysql\u001b[39m.\u001b[39;49mquery(query,\n\u001b[0;32m    536\u001b[0m                        raw\u001b[39m=\u001b[39;49mraw, buffered\u001b[39m=\u001b[39;49mbuffered,\n\u001b[0;32m    537\u001b[0m                        raw_as_string\u001b[39m=\u001b[39;49mraw_as_string,\n\u001b[0;32m    538\u001b[0m                        query_attrs\u001b[39m=\u001b[39;49m\u001b[39mself\u001b[39;49m\u001b[39m.\u001b[39;49m_query_attrs)\n\u001b[0;32m    539\u001b[0m \u001b[39mexcept\u001b[39;00m MySQLInterfaceError \u001b[39mas\u001b[39;00m exc:\n",
      "\u001b[1;31mMySQLInterfaceError\u001b[0m: Cannot add or update a child row: a foreign key constraint fails (`murf_tiling`.`tile_layers`, CONSTRAINT `tile_layers_ibfk_2` FOREIGN KEY (`batch_id`, `layer_name`) REFERENCES `translation` (`batch_id`, `layer_name`))",
      "\nDuring handling of the above exception, another exception occurred:\n",
      "\u001b[1;31mIntegrityError\u001b[0m                            Traceback (most recent call last)",
      "\u001b[1;32md:\\ualr-cahc\\murf-tiling\\python\\Tiling.ipynb Cell 3'\u001b[0m in \u001b[0;36m<cell line: 1>\u001b[1;34m()\u001b[0m\n\u001b[1;32m----> <a href='vscode-notebook-cell:/d%3A/ualr-cahc/murf-tiling/python/Tiling.ipynb#ch0000002?line=0'>1</a>\u001b[0m makeTiles(input_filepaths, output_dir, \u001b[39m8\u001b[39;49m, \u001b[39m25\u001b[39;49m)\n",
      "File \u001b[1;32md:\\ualr-cahc\\murf-tiling\\python\\tileTools\\calcTime.py:11\u001b[0m, in \u001b[0;36mcalcTime.<locals>.inner1\u001b[1;34m(*args, **kwargs)\u001b[0m\n\u001b[0;32m      9\u001b[0m \u001b[39mprint\u001b[39m(\u001b[39mf\u001b[39m\u001b[39m\"\u001b[39m\u001b[39m{\u001b[39;00mfunc\u001b[39m.\u001b[39m\u001b[39m__name__\u001b[39m\u001b[39m}\u001b[39;00m\u001b[39m(\u001b[39m\u001b[39m{\u001b[39;00margs, kwargs\u001b[39m}\u001b[39;00m\u001b[39m)\u001b[39m\u001b[39m\"\u001b[39m)\n\u001b[0;32m     10\u001b[0m begin \u001b[39m=\u001b[39m perf_counter_ns()\n\u001b[1;32m---> 11\u001b[0m func_return \u001b[39m=\u001b[39m func(\u001b[39m*\u001b[39margs, \u001b[39m*\u001b[39m\u001b[39m*\u001b[39mkwargs)\n\u001b[0;32m     12\u001b[0m end \u001b[39m=\u001b[39m perf_counter_ns()\n\u001b[0;32m     13\u001b[0m time \u001b[39m=\u001b[39m end\u001b[39m-\u001b[39mbegin\n",
      "File \u001b[1;32md:\\ualr-cahc\\murf-tiling\\python\\tileTools\\makeTiles.py:172\u001b[0m, in \u001b[0;36mmakeTiles\u001b[1;34m(input_filepaths, base_output_dir, min_zoom, max_zoom)\u001b[0m\n\u001b[0;32m    170\u001b[0m     tile_sets\u001b[39m.\u001b[39mdb\u001b[39m.\u001b[39mclose()\n\u001b[0;32m    171\u001b[0m     tile_layers\u001b[39m.\u001b[39mdb\u001b[39m.\u001b[39mclose()\n\u001b[1;32m--> 172\u001b[0m     \u001b[39mraise\u001b[39;00m error\n\u001b[0;32m    173\u001b[0m batch\u001b[39m.\u001b[39mdb\u001b[39m.\u001b[39mclose()\n\u001b[0;32m    174\u001b[0m translation\u001b[39m.\u001b[39mdb\u001b[39m.\u001b[39mclose()\n",
      "File \u001b[1;32md:\\ualr-cahc\\murf-tiling\\python\\tileTools\\makeTiles.py:150\u001b[0m, in \u001b[0;36mmakeTiles\u001b[1;34m(input_filepaths, base_output_dir, min_zoom, max_zoom)\u001b[0m\n\u001b[0;32m    145\u001b[0m os\u001b[39m.\u001b[39mmakedirs(output_dirpath)\n\u001b[0;32m    146\u001b[0m tile_layers_key \u001b[39m=\u001b[39m {\n\u001b[0;32m    147\u001b[0m     \u001b[39m'\u001b[39m\u001b[39mbatch_id\u001b[39m\u001b[39m'\u001b[39m: batch\u001b[39m.\u001b[39mid,\n\u001b[0;32m    148\u001b[0m     \u001b[39m'\u001b[39m\u001b[39mlayer_name\u001b[39m\u001b[39m'\u001b[39m: layer_name\n\u001b[0;32m    149\u001b[0m }\n\u001b[1;32m--> 150\u001b[0m tile_layers\u001b[39m.\u001b[39;49minsert(tile_layers_key)\n\u001b[0;32m    151\u001b[0m \u001b[39mtry\u001b[39;00m:\n\u001b[0;32m    152\u001b[0m     duration, _ \u001b[39m=\u001b[39m makeTileLayer(\n\u001b[0;32m    153\u001b[0m         translated_filepath, output_dirpath, min_zoom,\n\u001b[0;32m    154\u001b[0m         max_zoom, batch\u001b[39m.\u001b[39mid, layer_name, tile_sets\n\u001b[0;32m    155\u001b[0m     )\n",
      "File \u001b[1;32md:\\ualr-cahc\\murf-tiling\\python\\tileTools\\makeTiles.py:30\u001b[0m, in \u001b[0;36mTable.insert\u001b[1;34m(self, items_to_insert)\u001b[0m\n\u001b[0;32m     28\u001b[0m values \u001b[39m=\u001b[39m \u001b[39m\"\u001b[39m\u001b[39m, \u001b[39m\u001b[39m\"\u001b[39m\u001b[39m.\u001b[39mjoin(\u001b[39mf\u001b[39m\u001b[39m\"\u001b[39m\u001b[39m'\u001b[39m\u001b[39m{\u001b[39;00mvalue\u001b[39m}\u001b[39;00m\u001b[39m'\u001b[39m\u001b[39m\"\u001b[39m \u001b[39mfor\u001b[39;00m value \u001b[39min\u001b[39;00m items_to_insert\u001b[39m.\u001b[39mvalues())\n\u001b[0;32m     29\u001b[0m statement \u001b[39m=\u001b[39m \u001b[39mf\u001b[39m\u001b[39m\"\u001b[39m\u001b[39mINSERT INTO \u001b[39m\u001b[39m{\u001b[39;00m\u001b[39mself\u001b[39m\u001b[39m.\u001b[39mtable_name\u001b[39m}\u001b[39;00m\u001b[39m (\u001b[39m\u001b[39m{\u001b[39;00mkeys\u001b[39m}\u001b[39;00m\u001b[39m) VALUES (\u001b[39m\u001b[39m{\u001b[39;00mvalues\u001b[39m}\u001b[39;00m\u001b[39m);\u001b[39m\u001b[39m\"\u001b[39m\n\u001b[1;32m---> 30\u001b[0m \u001b[39mself\u001b[39;49m\u001b[39m.\u001b[39;49mexecute(statement)\n",
      "File \u001b[1;32md:\\ualr-cahc\\murf-tiling\\python\\tileTools\\makeTiles.py:46\u001b[0m, in \u001b[0;36mTable.execute\u001b[1;34m(self, statement)\u001b[0m\n\u001b[0;32m     44\u001b[0m \u001b[39mprint\u001b[39m(statement)\n\u001b[0;32m     45\u001b[0m cursor \u001b[39m=\u001b[39m \u001b[39mself\u001b[39m\u001b[39m.\u001b[39mdb\u001b[39m.\u001b[39mcursor()\n\u001b[1;32m---> 46\u001b[0m cursor\u001b[39m.\u001b[39;49mexecute(statement)\n\u001b[0;32m     47\u001b[0m \u001b[39mself\u001b[39m\u001b[39m.\u001b[39mdb\u001b[39m.\u001b[39mcommit()\n\u001b[0;32m     48\u001b[0m cursor\u001b[39m.\u001b[39mclose()\n",
      "File \u001b[1;32md:\\ualr-cahc\\murf-tiling\\env\\lib\\site-packages\\mysql\\connector\\cursor_cext.py:269\u001b[0m, in \u001b[0;36mCMySQLCursor.execute\u001b[1;34m(self, operation, params, multi)\u001b[0m\n\u001b[0;32m    265\u001b[0m             \u001b[39mraise\u001b[39;00m errors\u001b[39m.\u001b[39mProgrammingError(\n\u001b[0;32m    266\u001b[0m                 \u001b[39m\"\u001b[39m\u001b[39mNot all parameters were used in the SQL statement\u001b[39m\u001b[39m\"\u001b[39m)\n\u001b[0;32m    268\u001b[0m \u001b[39mtry\u001b[39;00m:\n\u001b[1;32m--> 269\u001b[0m     result \u001b[39m=\u001b[39m \u001b[39mself\u001b[39;49m\u001b[39m.\u001b[39;49m_cnx\u001b[39m.\u001b[39;49mcmd_query(stmt, raw\u001b[39m=\u001b[39;49m\u001b[39mself\u001b[39;49m\u001b[39m.\u001b[39;49m_raw,\n\u001b[0;32m    270\u001b[0m                                  buffered\u001b[39m=\u001b[39;49m\u001b[39mself\u001b[39;49m\u001b[39m.\u001b[39;49m_buffered,\n\u001b[0;32m    271\u001b[0m                                  raw_as_string\u001b[39m=\u001b[39;49m\u001b[39mself\u001b[39;49m\u001b[39m.\u001b[39;49m_raw_as_string)\n\u001b[0;32m    272\u001b[0m \u001b[39mexcept\u001b[39;00m MySQLInterfaceError \u001b[39mas\u001b[39;00m exc:\n\u001b[0;32m    273\u001b[0m     \u001b[39mraise\u001b[39;00m errors\u001b[39m.\u001b[39mget_mysql_exception(msg\u001b[39m=\u001b[39mexc\u001b[39m.\u001b[39mmsg, errno\u001b[39m=\u001b[39mexc\u001b[39m.\u001b[39merrno,\n\u001b[0;32m    274\u001b[0m                                      sqlstate\u001b[39m=\u001b[39mexc\u001b[39m.\u001b[39msqlstate)\n",
      "File \u001b[1;32md:\\ualr-cahc\\murf-tiling\\env\\lib\\site-packages\\mysql\\connector\\connection_cext.py:540\u001b[0m, in \u001b[0;36mCMySQLConnection.cmd_query\u001b[1;34m(self, query, raw, buffered, raw_as_string)\u001b[0m\n\u001b[0;32m    535\u001b[0m     \u001b[39mself\u001b[39m\u001b[39m.\u001b[39m_cmysql\u001b[39m.\u001b[39mquery(query,\n\u001b[0;32m    536\u001b[0m                        raw\u001b[39m=\u001b[39mraw, buffered\u001b[39m=\u001b[39mbuffered,\n\u001b[0;32m    537\u001b[0m                        raw_as_string\u001b[39m=\u001b[39mraw_as_string,\n\u001b[0;32m    538\u001b[0m                        query_attrs\u001b[39m=\u001b[39m\u001b[39mself\u001b[39m\u001b[39m.\u001b[39m_query_attrs)\n\u001b[0;32m    539\u001b[0m \u001b[39mexcept\u001b[39;00m MySQLInterfaceError \u001b[39mas\u001b[39;00m exc:\n\u001b[1;32m--> 540\u001b[0m     \u001b[39mraise\u001b[39;00m errors\u001b[39m.\u001b[39mget_mysql_exception(exc\u001b[39m.\u001b[39merrno, msg\u001b[39m=\u001b[39mexc\u001b[39m.\u001b[39mmsg,\n\u001b[0;32m    541\u001b[0m                                      sqlstate\u001b[39m=\u001b[39mexc\u001b[39m.\u001b[39msqlstate)\n\u001b[0;32m    542\u001b[0m \u001b[39mexcept\u001b[39;00m \u001b[39mAttributeError\u001b[39;00m:\n\u001b[0;32m    543\u001b[0m     \u001b[39mif\u001b[39;00m \u001b[39mself\u001b[39m\u001b[39m.\u001b[39m_unix_socket:\n",
      "\u001b[1;31mIntegrityError\u001b[0m: 1452 (23000): Cannot add or update a child row: a foreign key constraint fails (`murf_tiling`.`tile_layers`, CONSTRAINT `tile_layers_ibfk_2` FOREIGN KEY (`batch_id`, `layer_name`) REFERENCES `translation` (`batch_id`, `layer_name`))"
     ]
    }
   ],
   "source": [
    "makeTiles(input_filepaths, output_dir, 8, 25)\n",
    "\n"
   ]
  },
  {
   "cell_type": "code",
   "execution_count": 1,
   "id": "2e7dcae7",
   "metadata": {},
   "outputs": [],
   "source": [
    "from tileTools.dbConnect import dbConnect"
   ]
  },
  {
   "cell_type": "code",
   "execution_count": 5,
   "id": "abf6a29e",
   "metadata": {},
   "outputs": [],
   "source": [
    "import traceback"
   ]
  },
  {
   "cell_type": "code",
   "execution_count": 14,
   "id": "a6766892",
   "metadata": {},
   "outputs": [],
   "source": [
    "try:\n",
    "    raise ValueError\n",
    "except Exception as err:\n",
    "    error = traceback.format_exc(chain=True)"
   ]
  },
  {
   "cell_type": "code",
   "execution_count": 16,
   "id": "37875cbc",
   "metadata": {},
   "outputs": [
    {
     "name": "stdout",
     "output_type": "stream",
     "text": [
      "Traceback (most recent call last):      File \"C:\\Users\\triley\\AppData\\Local\\Temp\\ipykernel_11228\\1532540688.py\", line 2, in <cell line: 1>        raise ValueError    ValueError    \n"
     ]
    }
   ],
   "source": [
    "print(error.replace('\\n', '    '))"
   ]
  },
  {
   "cell_type": "code",
   "execution_count": null,
   "id": "bee23485",
   "metadata": {},
   "outputs": [],
   "source": []
  }
 ],
 "metadata": {
  "kernelspec": {
   "display_name": "Python 3.10.5 ('env': venv)",
   "language": "python",
   "name": "python3"
  },
  "language_info": {
   "codemirror_mode": {
    "name": "ipython",
    "version": 3
   },
   "file_extension": ".py",
   "mimetype": "text/x-python",
   "name": "python",
   "nbconvert_exporter": "python",
   "pygments_lexer": "ipython3",
   "version": "3.10.5"
  },
  "vscode": {
   "interpreter": {
    "hash": "fce37f39587bbc968f203f6a701a608b8bf04997f4f95a30553cd100f256b7d4"
   }
  }
 },
 "nbformat": 4,
 "nbformat_minor": 5
}
