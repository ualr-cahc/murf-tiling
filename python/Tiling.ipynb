{
 "cells": [
  {
   "cell_type": "code",
   "execution_count": 1,
   "id": "445723f1",
   "metadata": {},
   "outputs": [],
   "source": [
    "from tileTools.makeTiles_no_db import makeTiles\n",
    "from pathlib import Path\n",
    "input_filepaths = [path.resolve() for path in Path(r\"c:\\users\\triley\\Downloads\\Model_Corrected\").iterdir() if path.suffix == \".tif\"]\n",
    "output_dir = Path(r\"C:\\Users\\triley\\Desktop\\Model_Corrected\")"
   ]
  },
  {
   "cell_type": "code",
   "execution_count": 2,
   "id": "35bcc84f",
   "metadata": {},
   "outputs": [
    {
     "name": "stdout",
     "output_type": "stream",
     "text": [
      "Generating Base Tiles:\n",
      "0Generating Overview Tiles:\n",
      "0...10...20...30...40...50...60...70...80...90...100\n"
     ]
    },
    {
     "name": "stderr",
     "output_type": "stream",
     "text": [
      "INFO:root:Zoom 8-16 tile time: 1.2393966 seconds\n"
     ]
    },
    {
     "name": "stdout",
     "output_type": "stream",
     "text": [
      "Generating Base Tiles:\n",
      "0Generating Overview Tiles:\n",
      "0...10...20...30...40...50...60...70...80...90...100\n"
     ]
    },
    {
     "name": "stderr",
     "output_type": "stream",
     "text": [
      "INFO:root:Zoom 8-16 tile time: 1.2995741 seconds\n"
     ]
    },
    {
     "name": "stdout",
     "output_type": "stream",
     "text": [
      "Generating Base Tiles:\n",
      "0Generating Overview Tiles:\n",
      "0...10...20...30...40...50...60...70...80...90...100\n"
     ]
    },
    {
     "name": "stderr",
     "output_type": "stream",
     "text": [
      "INFO:root:Zoom 8-16 tile time: 1.2809244 seconds\n"
     ]
    },
    {
     "name": "stdout",
     "output_type": "stream",
     "text": [
      "Generating Base Tiles:\n",
      "0Generating Overview Tiles:\n",
      "0...10...20...30...40...50...60...70...80...90...100\n"
     ]
    },
    {
     "name": "stderr",
     "output_type": "stream",
     "text": [
      "INFO:root:Zoom 8-16 tile time: 1.2786965 seconds\n"
     ]
    },
    {
     "name": "stdout",
     "output_type": "stream",
     "text": [
      "Generating Base Tiles:\n",
      "0Generating Overview Tiles:\n",
      "0...10...20...30...40...50...60...70...80...90...100\n"
     ]
    },
    {
     "name": "stderr",
     "output_type": "stream",
     "text": [
      "INFO:root:Zoom 8-20 tile time: 0.5814469 seconds\n"
     ]
    },
    {
     "name": "stdout",
     "output_type": "stream",
     "text": [
      "Generating Base Tiles:\n",
      "0Generating Overview Tiles:\n",
      "0...10...20...30...40...50...60...70...80...90...100\n"
     ]
    },
    {
     "name": "stderr",
     "output_type": "stream",
     "text": [
      "INFO:root:Zoom 8-19 tile time: 0.8518224 seconds\n"
     ]
    },
    {
     "name": "stdout",
     "output_type": "stream",
     "text": [
      "Generating Base Tiles:\n",
      "0Generating Overview Tiles:\n",
      "0...10...20...30...40...50...60...70...80...90...100\n"
     ]
    },
    {
     "name": "stderr",
     "output_type": "stream",
     "text": [
      "INFO:root:Zoom 8-19 tile time: 0.8107509 seconds\n"
     ]
    },
    {
     "name": "stdout",
     "output_type": "stream",
     "text": [
      "Generating Base Tiles:\n",
      "0Generating Overview Tiles:\n",
      "0...10...20...30...40...50...60...70...80...90...100\n"
     ]
    },
    {
     "name": "stderr",
     "output_type": "stream",
     "text": [
      "INFO:root:Zoom 8-19 tile time: 0.8479384 seconds\n"
     ]
    }
   ],
   "source": [
    "makeTiles(input_filepaths, output_dir, 8, 25)"
   ]
  },
  {
   "cell_type": "code",
   "execution_count": null,
   "id": "ec0f127b",
   "metadata": {},
   "outputs": [],
   "source": [
    "import os\n",
    "from tileTools.makeTiles import makeTiles\n",
    "from shutil import rmtree\n",
    "#raw_inputs = \"D:/ualr-cahc/murf-tiling/TIFFs/GeoTIFFs/Metroplan Files Renamed\"\n",
    "raw_inputs = \"e:/\"\n",
    "#input_filenames = [\"1960_Metro_Area_Office_and_Commercial_Uses.tif\", \"1960_NOLIT_Census_Tract_and_Block.tif\", \"1960_PULCO_Census_ED_Map.tif\", \"1960_PULCO_Census_Tract_Map_A.tif\"]\n",
    "#input_filenames = ['1960_Metro_Area_Office_and_Commercial_Uses.tif']\n",
    "input_filenames = [\"1960_Metro_Area_Office_and_Commercial_Uses.tif\", \"1970s_LITRK-NOLIT_SMSA_Industrial.tif\", \"1998_AHTD_060772_LITRK_Hinson_Rd_Sidewalks_25.tif\"]\n",
    "input_filepaths = [os.path.join(raw_inputs, file) for file in input_filenames]\n",
    "#output_dir = \"d:/ualr-cahc/murf-tiling/tests/osgeo_osm_test2/\"\n",
    "output_dir = \"e:/test\"\n",
    "tile_options = {\n",
    "    \"nb_processes\": 8,\n",
    "    \"zoom\": [8,25]\n",
    "}\n",
    "makeTiles(input_filepaths, output_dir, 8, 25)\n",
    "\n"
   ]
  },
  {
   "cell_type": "code",
   "execution_count": null,
   "id": "9a90bd9a",
   "metadata": {},
   "outputs": [],
   "source": [
    "from shutil import rmtree\n",
    "rmtree(\"e:/test/tiles\")"
   ]
  },
  {
   "cell_type": "code",
   "execution_count": null,
   "id": "2e7dcae7",
   "metadata": {},
   "outputs": [],
   "source": [
    "from shutil import rmtree\n",
    "rmtree(\"e:/test/tiles\")"
   ]
  },
  {
   "cell_type": "code",
   "execution_count": null,
   "id": "cb3dead4",
   "metadata": {},
   "outputs": [],
   "source": [
    "dbKwargs = {\n",
    "    'password': \"POIUpoiu)(*&0987\",\n",
    "    'database': 'murf_tiling'\n",
    "}"
   ]
  },
  {
   "cell_type": "code",
   "execution_count": null,
   "id": "da2db469",
   "metadata": {},
   "outputs": [],
   "source": [
    "db = dbConnect(**dbKwargs)"
   ]
  },
  {
   "cell_type": "code",
   "execution_count": null,
   "id": "e8b4ace9",
   "metadata": {},
   "outputs": [],
   "source": [
    "cursor = db.cursor()\n",
    "cursor.execute(\"insert into batch (output_dir) VALUES ('e:\\\\test')\")"
   ]
  },
  {
   "cell_type": "code",
   "execution_count": null,
   "id": "abf6a29e",
   "metadata": {},
   "outputs": [],
   "source": [
    "import traceback"
   ]
  },
  {
   "cell_type": "code",
   "execution_count": null,
   "id": "a6766892",
   "metadata": {},
   "outputs": [],
   "source": [
    "try:\n",
    "    raise ValueError\n",
    "except Exception as err:\n",
    "    error = traceback.format_exc(chain=True)"
   ]
  },
  {
   "cell_type": "markdown",
   "id": "37875cbc",
   "metadata": {},
   "source": [
    "Traceback (most recent call last):      \n",
    "]File \"d:\\ualr-cahc\\murf-tiling\\python\\tileTools\\makeTiles.py\", line 100, in makeTileLayer        \n",
    "tile_sets.update({'duration': duration}, tile_set_key)      \n",
    "File \"d:\\ualr-cahc\\murf-tiling\\python\\tileTools\\makeTiles.py\", line 45, in update        \n",
    "self.execute_statement(statement, params)      \n",
    "File \"d:\\ualr-cahc\\murf-tiling\\python\\tileTools\\makeTiles.py\", line 58, in execute_statement        \n",
    "cursor.execute(statement, params)      \n",
    "File \"d:\\ualr-cahc\\murf-tiling\\env\\lib\\site-packages\\mysql\\connector\\cursor_cext.py\", line 257, in execute        \n",
    "prepared = self._cnx.prepare_for_mysql(params)      \n",
    "File \"d:\\ualr-cahc\\murf-tiling\\env\\lib\\site-packages\\mysql\\connector\\connection_cext.py\", line 684, in prepare_for_mysql    \n",
    "    result = self._cmysql.convert_to_mysql(*params)    \n",
    "    _mysql_connector.MySQLInterfaceError: Python type function cannot be converted"
   ]
  },
  {
   "cell_type": "code",
   "execution_count": null,
   "id": "bee23485",
   "metadata": {},
   "outputs": [],
   "source": []
  }
 ],
 "metadata": {
  "kernelspec": {
   "display_name": "Python 3.10.8 ('env': venv)",
   "language": "python",
   "name": "python3"
  },
  "language_info": {
   "codemirror_mode": {
    "name": "ipython",
    "version": 3
   },
   "file_extension": ".py",
   "mimetype": "text/x-python",
   "name": "python",
   "nbconvert_exporter": "python",
   "pygments_lexer": "ipython3",
   "version": "3.10.8"
  },
  "vscode": {
   "interpreter": {
    "hash": "fce37f39587bbc968f203f6a701a608b8bf04997f4f95a30553cd100f256b7d4"
   }
  }
 },
 "nbformat": 4,
 "nbformat_minor": 5
}
