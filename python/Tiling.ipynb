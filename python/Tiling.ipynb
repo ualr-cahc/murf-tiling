{
 "cells": [
  {
   "cell_type": "code",
   "execution_count": 1,
   "id": "ec0f127b",
   "metadata": {},
   "outputs": [],
   "source": [
    "import os\n",
    "from tileTools.makeTiles import makeTiles\n"
   ]
  },
  {
   "cell_type": "code",
   "execution_count": 2,
   "id": "fc366ca2",
   "metadata": {},
   "outputs": [],
   "source": [
    "raw_inputs = \"d:/Metroplan Files Renamed/\"\n",
    "#input_filenames = [\"1960_Metro_Area_Office_and_Commercial_Uses.tif\", \"1960_NOLIT_Census_Tract_and_Block.tif\", \"1960_PULCO_Census_ED_Map.tif\", \"1960_PULCO_Census_Tract_Map_A.tif\"]\n",
    "input_filenames = ['1960_Metro_Area_Office_and_Commercial_Uses.tif']\n",
    "input_filepaths = [os.path.join(raw_inputs, file) for file in input_filenames]\n",
    "output_dir = \"d:/murf-tiling/tests/test3/\"\n",
    "tile_options = {\n",
    "    \"nb_processes\": 8,\n",
    "    \"zoom\": [8,8]\n",
    "}"
   ]
  },
  {
   "cell_type": "code",
   "execution_count": 3,
   "id": "97555bca",
   "metadata": {},
   "outputs": [
    {
     "name": "stdout",
     "output_type": "stream",
     "text": [
      "Generated d:/murf-tiling/tests/test3/tile_outputs\n",
      "generate_tiles(('d:/murf-tiling/tests/test3/translated\\\\1960_Metro_Area_Office_and_Commercial_Uses.tif', 'd:/murf-tiling/tests/test3/tile_outputs\\\\1960_Metro_Area_Office_and_Commercial_Uses', {'nb_processes': 8, 'zoom': [8, 8]})\n"
     ]
    }
   ],
   "source": [
    "makeTiles(input_filepaths, output_dir, tile_options)"
   ]
  },
  {
   "cell_type": "code",
   "execution_count": null,
   "id": "524bc661",
   "metadata": {},
   "outputs": [],
   "source": []
  }
 ],
 "metadata": {
  "interpreter": {
   "hash": "4f25bc75ed68546de2059c1472282b72606aa5da89902d8c30412e443f9073e3"
  },
  "kernelspec": {
   "display_name": "Python 3.10.4 64-bit (windows store)",
   "language": "python",
   "name": "python3"
  },
  "language_info": {
   "codemirror_mode": {
    "name": "ipython",
    "version": 3
   },
   "file_extension": ".py",
   "mimetype": "text/x-python",
   "name": "python",
   "nbconvert_exporter": "python",
   "pygments_lexer": "ipython3",
   "version": "3.10.5"
  }
 },
 "nbformat": 4,
 "nbformat_minor": 5
}
